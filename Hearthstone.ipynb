{
 "cells": [
  {
   "cell_type": "code",
   "execution_count": null,
   "id": "17875318",
   "metadata": {},
   "outputs": [],
   "source": [
    "Problématique : Peut-on mesurer la popularité de certains decks, des classes de héros en parties classées sur une période donnée ? \n",
    "De certaines certaines cartes ? \n",
    "De certains archétypes de decks ? "
   ]
  },
  {
   "cell_type": "code",
   "execution_count": null,
   "id": "e31c45ec",
   "metadata": {},
   "outputs": [],
   "source": []
  },
  {
   "cell_type": "code",
   "execution_count": 183,
   "id": "29e85b01",
   "metadata": {},
   "outputs": [
    {
     "name": "stdout",
     "output_type": "stream",
     "text": [
      "libs loaded\n",
      "decks loaded\n"
     ]
    }
   ],
   "source": [
    "#Import librairies\n",
    "import json, datetime\n",
    "import pandas as pd\n",
    "import numpy as np\n",
    "import seaborn as sns\n",
    "import matplotlib.pyplot as plt\n",
    "\n",
    "print('libs loaded')\n",
    "\n",
    "\n",
    "# Import datasets\n",
    "with open('datas/data/data.json') as file:\n",
    "    data = json.load(file)\n",
    "    \n",
    "decks = pd.read_csv('datas/data/data.csv');\n",
    "\n",
    "\n",
    "print('decks loaded')\n",
    "\n"
   ]
  },
  {
   "cell_type": "code",
   "execution_count": 184,
   "id": "8181499c",
   "metadata": {},
   "outputs": [
    {
     "data": {
      "text/html": [
       "<div>\n",
       "<style scoped>\n",
       "    .dataframe tbody tr th:only-of-type {\n",
       "        vertical-align: middle;\n",
       "    }\n",
       "\n",
       "    .dataframe tbody tr th {\n",
       "        vertical-align: top;\n",
       "    }\n",
       "\n",
       "    .dataframe thead th {\n",
       "        text-align: right;\n",
       "    }\n",
       "</style>\n",
       "<table border=\"1\" class=\"dataframe\">\n",
       "  <thead>\n",
       "    <tr style=\"text-align: right;\">\n",
       "      <th></th>\n",
       "      <th>craft_cost</th>\n",
       "      <th>date</th>\n",
       "      <th>deck_archetype</th>\n",
       "      <th>deck_class</th>\n",
       "      <th>deck_format</th>\n",
       "      <th>deck_id</th>\n",
       "      <th>deck_set</th>\n",
       "      <th>deck_type</th>\n",
       "      <th>rating</th>\n",
       "      <th>title</th>\n",
       "      <th>...</th>\n",
       "      <th>card_20</th>\n",
       "      <th>card_21</th>\n",
       "      <th>card_22</th>\n",
       "      <th>card_23</th>\n",
       "      <th>card_24</th>\n",
       "      <th>card_25</th>\n",
       "      <th>card_26</th>\n",
       "      <th>card_27</th>\n",
       "      <th>card_28</th>\n",
       "      <th>card_29</th>\n",
       "    </tr>\n",
       "  </thead>\n",
       "  <tbody>\n",
       "    <tr>\n",
       "      <th>0</th>\n",
       "      <td>9740</td>\n",
       "      <td>2016-02-19</td>\n",
       "      <td>Unknown</td>\n",
       "      <td>Priest</td>\n",
       "      <td>W</td>\n",
       "      <td>433004</td>\n",
       "      <td>Explorers</td>\n",
       "      <td>Tavern Brawl</td>\n",
       "      <td>1</td>\n",
       "      <td>Reno Priest</td>\n",
       "      <td>...</td>\n",
       "      <td>2336</td>\n",
       "      <td>2457</td>\n",
       "      <td>2511</td>\n",
       "      <td>2555</td>\n",
       "      <td>2566</td>\n",
       "      <td>2582</td>\n",
       "      <td>2683</td>\n",
       "      <td>2736</td>\n",
       "      <td>2848</td>\n",
       "      <td>2883</td>\n",
       "    </tr>\n",
       "    <tr>\n",
       "      <th>1</th>\n",
       "      <td>9840</td>\n",
       "      <td>2016-02-19</td>\n",
       "      <td>Unknown</td>\n",
       "      <td>Warrior</td>\n",
       "      <td>W</td>\n",
       "      <td>433003</td>\n",
       "      <td>Explorers</td>\n",
       "      <td>Ranked Deck</td>\n",
       "      <td>1</td>\n",
       "      <td>RoosterWarrior</td>\n",
       "      <td>...</td>\n",
       "      <td>1781</td>\n",
       "      <td>1781</td>\n",
       "      <td>2021</td>\n",
       "      <td>2021</td>\n",
       "      <td>2064</td>\n",
       "      <td>2064</td>\n",
       "      <td>2078</td>\n",
       "      <td>2510</td>\n",
       "      <td>2729</td>\n",
       "      <td>2736</td>\n",
       "    </tr>\n",
       "    <tr>\n",
       "      <th>2</th>\n",
       "      <td>2600</td>\n",
       "      <td>2016-02-19</td>\n",
       "      <td>Unknown</td>\n",
       "      <td>Mage</td>\n",
       "      <td>W</td>\n",
       "      <td>433002</td>\n",
       "      <td>Explorers</td>\n",
       "      <td>Theorycraft</td>\n",
       "      <td>1</td>\n",
       "      <td>Annoying</td>\n",
       "      <td>...</td>\n",
       "      <td>1793</td>\n",
       "      <td>1801</td>\n",
       "      <td>1801</td>\n",
       "      <td>2037</td>\n",
       "      <td>2037</td>\n",
       "      <td>2064</td>\n",
       "      <td>2064</td>\n",
       "      <td>2078</td>\n",
       "      <td>38710</td>\n",
       "      <td>38710</td>\n",
       "    </tr>\n",
       "    <tr>\n",
       "      <th>3</th>\n",
       "      <td>15600</td>\n",
       "      <td>2016-02-19</td>\n",
       "      <td>Unknown</td>\n",
       "      <td>Warrior</td>\n",
       "      <td>W</td>\n",
       "      <td>433001</td>\n",
       "      <td>Explorers</td>\n",
       "      <td>None</td>\n",
       "      <td>0</td>\n",
       "      <td>Standart pay to win warrior</td>\n",
       "      <td>...</td>\n",
       "      <td>1657</td>\n",
       "      <td>1721</td>\n",
       "      <td>2018</td>\n",
       "      <td>2296</td>\n",
       "      <td>2320</td>\n",
       "      <td>2328</td>\n",
       "      <td>2729</td>\n",
       "      <td>2729</td>\n",
       "      <td>2736</td>\n",
       "      <td>2760</td>\n",
       "    </tr>\n",
       "    <tr>\n",
       "      <th>4</th>\n",
       "      <td>7700</td>\n",
       "      <td>2016-02-19</td>\n",
       "      <td>Unknown</td>\n",
       "      <td>Paladin</td>\n",
       "      <td>W</td>\n",
       "      <td>432997</td>\n",
       "      <td>Explorers</td>\n",
       "      <td>Ranked Deck</td>\n",
       "      <td>1</td>\n",
       "      <td>Palamix</td>\n",
       "      <td>...</td>\n",
       "      <td>2027</td>\n",
       "      <td>2029</td>\n",
       "      <td>2029</td>\n",
       "      <td>2064</td>\n",
       "      <td>2078</td>\n",
       "      <td>2336</td>\n",
       "      <td>2717</td>\n",
       "      <td>2717</td>\n",
       "      <td>2889</td>\n",
       "      <td>2889</td>\n",
       "    </tr>\n",
       "    <tr>\n",
       "      <th>...</th>\n",
       "      <td>...</td>\n",
       "      <td>...</td>\n",
       "      <td>...</td>\n",
       "      <td>...</td>\n",
       "      <td>...</td>\n",
       "      <td>...</td>\n",
       "      <td>...</td>\n",
       "      <td>...</td>\n",
       "      <td>...</td>\n",
       "      <td>...</td>\n",
       "      <td>...</td>\n",
       "      <td>...</td>\n",
       "      <td>...</td>\n",
       "      <td>...</td>\n",
       "      <td>...</td>\n",
       "      <td>...</td>\n",
       "      <td>...</td>\n",
       "      <td>...</td>\n",
       "      <td>...</td>\n",
       "      <td>...</td>\n",
       "      <td>...</td>\n",
       "    </tr>\n",
       "    <tr>\n",
       "      <th>346237</th>\n",
       "      <td>5480</td>\n",
       "      <td>2016-04-25</td>\n",
       "      <td>Unknown</td>\n",
       "      <td>Paladin</td>\n",
       "      <td>S</td>\n",
       "      <td>495042</td>\n",
       "      <td>Classic Nerfs</td>\n",
       "      <td>None</td>\n",
       "      <td>3</td>\n",
       "      <td>Shields Up! [Old Gods Deck Recipe]</td>\n",
       "      <td>...</td>\n",
       "      <td>2918</td>\n",
       "      <td>2918</td>\n",
       "      <td>38740</td>\n",
       "      <td>38740</td>\n",
       "      <td>38745</td>\n",
       "      <td>38745</td>\n",
       "      <td>38781</td>\n",
       "      <td>38781</td>\n",
       "      <td>38911</td>\n",
       "      <td>38911</td>\n",
       "    </tr>\n",
       "    <tr>\n",
       "      <th>346238</th>\n",
       "      <td>3840</td>\n",
       "      <td>2016-02-07</td>\n",
       "      <td>Unknown</td>\n",
       "      <td>Rogue</td>\n",
       "      <td>S</td>\n",
       "      <td>427586</td>\n",
       "      <td>Explorers</td>\n",
       "      <td>None</td>\n",
       "      <td>1</td>\n",
       "      <td>Post Standard Miracle Rogue</td>\n",
       "      <td>...</td>\n",
       "      <td>1029</td>\n",
       "      <td>1029</td>\n",
       "      <td>1117</td>\n",
       "      <td>1117</td>\n",
       "      <td>1158</td>\n",
       "      <td>1158</td>\n",
       "      <td>1372</td>\n",
       "      <td>1651</td>\n",
       "      <td>2884</td>\n",
       "      <td>2884</td>\n",
       "    </tr>\n",
       "    <tr>\n",
       "      <th>346239</th>\n",
       "      <td>5580</td>\n",
       "      <td>2016-02-07</td>\n",
       "      <td>Unknown</td>\n",
       "      <td>Paladin</td>\n",
       "      <td>W</td>\n",
       "      <td>427574</td>\n",
       "      <td>Explorers</td>\n",
       "      <td>Ranked Deck</td>\n",
       "      <td>0</td>\n",
       "      <td>Genoocide's Reno Paladin</td>\n",
       "      <td>...</td>\n",
       "      <td>2029</td>\n",
       "      <td>2037</td>\n",
       "      <td>2078</td>\n",
       "      <td>2655</td>\n",
       "      <td>2704</td>\n",
       "      <td>2883</td>\n",
       "      <td>2889</td>\n",
       "      <td>2901</td>\n",
       "      <td>2949</td>\n",
       "      <td>2951</td>\n",
       "    </tr>\n",
       "    <tr>\n",
       "      <th>346240</th>\n",
       "      <td>5160</td>\n",
       "      <td>2016-02-07</td>\n",
       "      <td>Unknown</td>\n",
       "      <td>Druid</td>\n",
       "      <td>S</td>\n",
       "      <td>427571</td>\n",
       "      <td>Explorers</td>\n",
       "      <td>Ranked Deck</td>\n",
       "      <td>1</td>\n",
       "      <td>standard combo</td>\n",
       "      <td>...</td>\n",
       "      <td>1124</td>\n",
       "      <td>1124</td>\n",
       "      <td>2336</td>\n",
       "      <td>2780</td>\n",
       "      <td>2780</td>\n",
       "      <td>2782</td>\n",
       "      <td>2782</td>\n",
       "      <td>2948</td>\n",
       "      <td>38319</td>\n",
       "      <td>38319</td>\n",
       "    </tr>\n",
       "    <tr>\n",
       "      <th>346241</th>\n",
       "      <td>1260</td>\n",
       "      <td>2016-02-07</td>\n",
       "      <td>Unknown</td>\n",
       "      <td>Warlock</td>\n",
       "      <td>W</td>\n",
       "      <td>427572</td>\n",
       "      <td>Explorers</td>\n",
       "      <td>Ranked Deck</td>\n",
       "      <td>3</td>\n",
       "      <td>Zoo Warlock</td>\n",
       "      <td>...</td>\n",
       "      <td>1786</td>\n",
       "      <td>1786</td>\n",
       "      <td>1806</td>\n",
       "      <td>1806</td>\n",
       "      <td>2013</td>\n",
       "      <td>2013</td>\n",
       "      <td>2288</td>\n",
       "      <td>2288</td>\n",
       "      <td>2895</td>\n",
       "      <td>2895</td>\n",
       "    </tr>\n",
       "  </tbody>\n",
       "</table>\n",
       "<p>346242 rows × 41 columns</p>\n",
       "</div>"
      ],
      "text/plain": [
       "        craft_cost        date deck_archetype deck_class deck_format  deck_id  \\\n",
       "0             9740  2016-02-19        Unknown     Priest           W   433004   \n",
       "1             9840  2016-02-19        Unknown    Warrior           W   433003   \n",
       "2             2600  2016-02-19        Unknown       Mage           W   433002   \n",
       "3            15600  2016-02-19        Unknown    Warrior           W   433001   \n",
       "4             7700  2016-02-19        Unknown    Paladin           W   432997   \n",
       "...            ...         ...            ...        ...         ...      ...   \n",
       "346237        5480  2016-04-25        Unknown    Paladin           S   495042   \n",
       "346238        3840  2016-02-07        Unknown      Rogue           S   427586   \n",
       "346239        5580  2016-02-07        Unknown    Paladin           W   427574   \n",
       "346240        5160  2016-02-07        Unknown      Druid           S   427571   \n",
       "346241        1260  2016-02-07        Unknown    Warlock           W   427572   \n",
       "\n",
       "             deck_set     deck_type  rating  \\\n",
       "0           Explorers  Tavern Brawl       1   \n",
       "1           Explorers   Ranked Deck       1   \n",
       "2           Explorers   Theorycraft       1   \n",
       "3           Explorers          None       0   \n",
       "4           Explorers   Ranked Deck       1   \n",
       "...               ...           ...     ...   \n",
       "346237  Classic Nerfs          None       3   \n",
       "346238      Explorers          None       1   \n",
       "346239      Explorers   Ranked Deck       0   \n",
       "346240      Explorers   Ranked Deck       1   \n",
       "346241      Explorers   Ranked Deck       3   \n",
       "\n",
       "                                     title  ... card_20  card_21  card_22  \\\n",
       "0                              Reno Priest  ...    2336     2457     2511   \n",
       "1                           RoosterWarrior  ...    1781     1781     2021   \n",
       "2                                 Annoying  ...    1793     1801     1801   \n",
       "3              Standart pay to win warrior  ...    1657     1721     2018   \n",
       "4                                  Palamix  ...    2027     2029     2029   \n",
       "...                                    ...  ...     ...      ...      ...   \n",
       "346237  Shields Up! [Old Gods Deck Recipe]  ...    2918     2918    38740   \n",
       "346238         Post Standard Miracle Rogue  ...    1029     1029     1117   \n",
       "346239            Genoocide's Reno Paladin  ...    2029     2037     2078   \n",
       "346240                      standard combo  ...    1124     1124     2336   \n",
       "346241                         Zoo Warlock  ...    1786     1786     1806   \n",
       "\n",
       "        card_23  card_24  card_25  card_26  card_27  card_28  card_29  \n",
       "0          2555     2566     2582     2683     2736     2848     2883  \n",
       "1          2021     2064     2064     2078     2510     2729     2736  \n",
       "2          2037     2037     2064     2064     2078    38710    38710  \n",
       "3          2296     2320     2328     2729     2729     2736     2760  \n",
       "4          2064     2078     2336     2717     2717     2889     2889  \n",
       "...         ...      ...      ...      ...      ...      ...      ...  \n",
       "346237    38740    38745    38745    38781    38781    38911    38911  \n",
       "346238     1117     1158     1158     1372     1651     2884     2884  \n",
       "346239     2655     2704     2883     2889     2901     2949     2951  \n",
       "346240     2780     2780     2782     2782     2948    38319    38319  \n",
       "346241     1806     2013     2013     2288     2288     2895     2895  \n",
       "\n",
       "[346242 rows x 41 columns]"
      ]
     },
     "execution_count": 184,
     "metadata": {},
     "output_type": "execute_result"
    }
   ],
   "source": [
    "# convert into dataframe\n",
    "# decks = pd.DataFrame(data)\n",
    "decks\n",
    "#data\n"
   ]
  },
  {
   "cell_type": "code",
   "execution_count": 52,
   "id": "8d1266cd",
   "metadata": {},
   "outputs": [
    {
     "data": {
      "text/html": [
       "<div>\n",
       "<style scoped>\n",
       "    .dataframe tbody tr th:only-of-type {\n",
       "        vertical-align: middle;\n",
       "    }\n",
       "\n",
       "    .dataframe tbody tr th {\n",
       "        vertical-align: top;\n",
       "    }\n",
       "\n",
       "    .dataframe thead th {\n",
       "        text-align: right;\n",
       "    }\n",
       "</style>\n",
       "<table border=\"1\" class=\"dataframe\">\n",
       "  <thead>\n",
       "    <tr style=\"text-align: right;\">\n",
       "      <th></th>\n",
       "      <th>craft_cost</th>\n",
       "      <th>deck_id</th>\n",
       "      <th>rating</th>\n",
       "      <th>card_0</th>\n",
       "      <th>card_1</th>\n",
       "      <th>card_2</th>\n",
       "      <th>card_3</th>\n",
       "      <th>card_4</th>\n",
       "      <th>card_5</th>\n",
       "      <th>card_6</th>\n",
       "      <th>...</th>\n",
       "      <th>card_20</th>\n",
       "      <th>card_21</th>\n",
       "      <th>card_22</th>\n",
       "      <th>card_23</th>\n",
       "      <th>card_24</th>\n",
       "      <th>card_25</th>\n",
       "      <th>card_26</th>\n",
       "      <th>card_27</th>\n",
       "      <th>card_28</th>\n",
       "      <th>card_29</th>\n",
       "    </tr>\n",
       "  </thead>\n",
       "  <tbody>\n",
       "    <tr>\n",
       "      <th>count</th>\n",
       "      <td>346242.000000</td>\n",
       "      <td>346242.000000</td>\n",
       "      <td>346242.000000</td>\n",
       "      <td>346242.000000</td>\n",
       "      <td>346242.000000</td>\n",
       "      <td>346242.000000</td>\n",
       "      <td>346242.000000</td>\n",
       "      <td>346242.000000</td>\n",
       "      <td>346242.000000</td>\n",
       "      <td>346242.000000</td>\n",
       "      <td>...</td>\n",
       "      <td>346242.000000</td>\n",
       "      <td>346242.000000</td>\n",
       "      <td>346242.000000</td>\n",
       "      <td>346242.000000</td>\n",
       "      <td>346242.000000</td>\n",
       "      <td>346242.000000</td>\n",
       "      <td>346242.000000</td>\n",
       "      <td>346242.000000</td>\n",
       "      <td>346242.000000</td>\n",
       "      <td>346242.000000</td>\n",
       "    </tr>\n",
       "    <tr>\n",
       "      <th>mean</th>\n",
       "      <td>5645.225937</td>\n",
       "      <td>394142.273066</td>\n",
       "      <td>2.687170</td>\n",
       "      <td>165.618195</td>\n",
       "      <td>214.709798</td>\n",
       "      <td>320.650366</td>\n",
       "      <td>382.358134</td>\n",
       "      <td>469.886496</td>\n",
       "      <td>536.562907</td>\n",
       "      <td>628.203574</td>\n",
       "      <td>...</td>\n",
       "      <td>6662.273043</td>\n",
       "      <td>7860.112638</td>\n",
       "      <td>9278.601605</td>\n",
       "      <td>10738.678049</td>\n",
       "      <td>12351.647556</td>\n",
       "      <td>13647.057645</td>\n",
       "      <td>15014.507203</td>\n",
       "      <td>15903.576591</td>\n",
       "      <td>19204.390579</td>\n",
       "      <td>20435.190924</td>\n",
       "    </tr>\n",
       "    <tr>\n",
       "      <th>std</th>\n",
       "      <td>3928.009144</td>\n",
       "      <td>222610.838932</td>\n",
       "      <td>22.117435</td>\n",
       "      <td>514.386878</td>\n",
       "      <td>547.597644</td>\n",
       "      <td>600.603571</td>\n",
       "      <td>625.753189</td>\n",
       "      <td>709.402370</td>\n",
       "      <td>800.371897</td>\n",
       "      <td>976.070998</td>\n",
       "      <td>...</td>\n",
       "      <td>12541.153259</td>\n",
       "      <td>13685.215076</td>\n",
       "      <td>14820.057280</td>\n",
       "      <td>15796.431017</td>\n",
       "      <td>16668.158774</td>\n",
       "      <td>17234.816728</td>\n",
       "      <td>17718.344378</td>\n",
       "      <td>17972.907339</td>\n",
       "      <td>18532.443825</td>\n",
       "      <td>18620.628679</td>\n",
       "    </tr>\n",
       "    <tr>\n",
       "      <th>min</th>\n",
       "      <td>0.000000</td>\n",
       "      <td>18.000000</td>\n",
       "      <td>0.000000</td>\n",
       "      <td>7.000000</td>\n",
       "      <td>8.000000</td>\n",
       "      <td>8.000000</td>\n",
       "      <td>8.000000</td>\n",
       "      <td>8.000000</td>\n",
       "      <td>8.000000</td>\n",
       "      <td>8.000000</td>\n",
       "      <td>...</td>\n",
       "      <td>8.000000</td>\n",
       "      <td>8.000000</td>\n",
       "      <td>8.000000</td>\n",
       "      <td>8.000000</td>\n",
       "      <td>8.000000</td>\n",
       "      <td>8.000000</td>\n",
       "      <td>8.000000</td>\n",
       "      <td>8.000000</td>\n",
       "      <td>8.000000</td>\n",
       "      <td>8.000000</td>\n",
       "    </tr>\n",
       "    <tr>\n",
       "      <th>25%</th>\n",
       "      <td>2720.000000</td>\n",
       "      <td>216700.750000</td>\n",
       "      <td>1.000000</td>\n",
       "      <td>64.000000</td>\n",
       "      <td>75.000000</td>\n",
       "      <td>189.000000</td>\n",
       "      <td>237.000000</td>\n",
       "      <td>282.000000</td>\n",
       "      <td>315.000000</td>\n",
       "      <td>405.000000</td>\n",
       "      <td>...</td>\n",
       "      <td>1182.000000</td>\n",
       "      <td>1626.000000</td>\n",
       "      <td>1667.000000</td>\n",
       "      <td>1784.000000</td>\n",
       "      <td>1805.000000</td>\n",
       "      <td>1914.000000</td>\n",
       "      <td>2026.000000</td>\n",
       "      <td>2064.000000</td>\n",
       "      <td>2093.000000</td>\n",
       "      <td>2320.000000</td>\n",
       "    </tr>\n",
       "    <tr>\n",
       "      <th>50%</th>\n",
       "      <td>5000.000000</td>\n",
       "      <td>406037.500000</td>\n",
       "      <td>1.000000</td>\n",
       "      <td>138.000000</td>\n",
       "      <td>180.000000</td>\n",
       "      <td>285.000000</td>\n",
       "      <td>315.000000</td>\n",
       "      <td>420.000000</td>\n",
       "      <td>476.000000</td>\n",
       "      <td>581.000000</td>\n",
       "      <td>...</td>\n",
       "      <td>2006.000000</td>\n",
       "      <td>2037.000000</td>\n",
       "      <td>2064.000000</td>\n",
       "      <td>2078.000000</td>\n",
       "      <td>2291.000000</td>\n",
       "      <td>2490.000000</td>\n",
       "      <td>2579.000000</td>\n",
       "      <td>2655.000000</td>\n",
       "      <td>2898.000000</td>\n",
       "      <td>3015.000000</td>\n",
       "    </tr>\n",
       "    <tr>\n",
       "      <th>75%</th>\n",
       "      <td>7740.000000</td>\n",
       "      <td>590813.750000</td>\n",
       "      <td>1.000000</td>\n",
       "      <td>238.000000</td>\n",
       "      <td>285.000000</td>\n",
       "      <td>420.000000</td>\n",
       "      <td>476.000000</td>\n",
       "      <td>605.000000</td>\n",
       "      <td>648.000000</td>\n",
       "      <td>763.000000</td>\n",
       "      <td>...</td>\n",
       "      <td>2610.000000</td>\n",
       "      <td>2736.000000</td>\n",
       "      <td>2890.000000</td>\n",
       "      <td>2951.000000</td>\n",
       "      <td>38336.000000</td>\n",
       "      <td>38505.000000</td>\n",
       "      <td>38727.000000</td>\n",
       "      <td>38797.000000</td>\n",
       "      <td>38918.000000</td>\n",
       "      <td>39026.000000</td>\n",
       "    </tr>\n",
       "    <tr>\n",
       "      <th>max</th>\n",
       "      <td>48000.000000</td>\n",
       "      <td>749548.000000</td>\n",
       "      <td>4016.000000</td>\n",
       "      <td>41409.000000</td>\n",
       "      <td>41409.000000</td>\n",
       "      <td>41409.000000</td>\n",
       "      <td>41409.000000</td>\n",
       "      <td>41409.000000</td>\n",
       "      <td>41409.000000</td>\n",
       "      <td>41409.000000</td>\n",
       "      <td>...</td>\n",
       "      <td>41409.000000</td>\n",
       "      <td>41409.000000</td>\n",
       "      <td>41409.000000</td>\n",
       "      <td>41566.000000</td>\n",
       "      <td>42646.000000</td>\n",
       "      <td>42646.000000</td>\n",
       "      <td>42646.000000</td>\n",
       "      <td>42646.000000</td>\n",
       "      <td>42646.000000</td>\n",
       "      <td>42646.000000</td>\n",
       "    </tr>\n",
       "  </tbody>\n",
       "</table>\n",
       "<p>8 rows × 33 columns</p>\n",
       "</div>"
      ],
      "text/plain": [
       "          craft_cost        deck_id         rating         card_0  \\\n",
       "count  346242.000000  346242.000000  346242.000000  346242.000000   \n",
       "mean     5645.225937  394142.273066       2.687170     165.618195   \n",
       "std      3928.009144  222610.838932      22.117435     514.386878   \n",
       "min         0.000000      18.000000       0.000000       7.000000   \n",
       "25%      2720.000000  216700.750000       1.000000      64.000000   \n",
       "50%      5000.000000  406037.500000       1.000000     138.000000   \n",
       "75%      7740.000000  590813.750000       1.000000     238.000000   \n",
       "max     48000.000000  749548.000000    4016.000000   41409.000000   \n",
       "\n",
       "              card_1         card_2         card_3         card_4  \\\n",
       "count  346242.000000  346242.000000  346242.000000  346242.000000   \n",
       "mean      214.709798     320.650366     382.358134     469.886496   \n",
       "std       547.597644     600.603571     625.753189     709.402370   \n",
       "min         8.000000       8.000000       8.000000       8.000000   \n",
       "25%        75.000000     189.000000     237.000000     282.000000   \n",
       "50%       180.000000     285.000000     315.000000     420.000000   \n",
       "75%       285.000000     420.000000     476.000000     605.000000   \n",
       "max     41409.000000   41409.000000   41409.000000   41409.000000   \n",
       "\n",
       "              card_5         card_6  ...        card_20        card_21  \\\n",
       "count  346242.000000  346242.000000  ...  346242.000000  346242.000000   \n",
       "mean      536.562907     628.203574  ...    6662.273043    7860.112638   \n",
       "std       800.371897     976.070998  ...   12541.153259   13685.215076   \n",
       "min         8.000000       8.000000  ...       8.000000       8.000000   \n",
       "25%       315.000000     405.000000  ...    1182.000000    1626.000000   \n",
       "50%       476.000000     581.000000  ...    2006.000000    2037.000000   \n",
       "75%       648.000000     763.000000  ...    2610.000000    2736.000000   \n",
       "max     41409.000000   41409.000000  ...   41409.000000   41409.000000   \n",
       "\n",
       "             card_22        card_23        card_24        card_25  \\\n",
       "count  346242.000000  346242.000000  346242.000000  346242.000000   \n",
       "mean     9278.601605   10738.678049   12351.647556   13647.057645   \n",
       "std     14820.057280   15796.431017   16668.158774   17234.816728   \n",
       "min         8.000000       8.000000       8.000000       8.000000   \n",
       "25%      1667.000000    1784.000000    1805.000000    1914.000000   \n",
       "50%      2064.000000    2078.000000    2291.000000    2490.000000   \n",
       "75%      2890.000000    2951.000000   38336.000000   38505.000000   \n",
       "max     41409.000000   41566.000000   42646.000000   42646.000000   \n",
       "\n",
       "             card_26        card_27        card_28        card_29  \n",
       "count  346242.000000  346242.000000  346242.000000  346242.000000  \n",
       "mean    15014.507203   15903.576591   19204.390579   20435.190924  \n",
       "std     17718.344378   17972.907339   18532.443825   18620.628679  \n",
       "min         8.000000       8.000000       8.000000       8.000000  \n",
       "25%      2026.000000    2064.000000    2093.000000    2320.000000  \n",
       "50%      2579.000000    2655.000000    2898.000000    3015.000000  \n",
       "75%     38727.000000   38797.000000   38918.000000   39026.000000  \n",
       "max     42646.000000   42646.000000   42646.000000   42646.000000  \n",
       "\n",
       "[8 rows x 33 columns]"
      ]
     },
     "execution_count": 52,
     "metadata": {},
     "output_type": "execute_result"
    }
   ],
   "source": [
    "#Visualition des données du dataset\n",
    "decks.describe()"
   ]
  },
  {
   "cell_type": "code",
   "execution_count": 159,
   "id": "90aa5c66",
   "metadata": {},
   "outputs": [
    {
     "data": {
      "text/plain": [
       "craft_cost         int64\n",
       "date              object\n",
       "deck_archetype    object\n",
       "deck_class        object\n",
       "deck_format       object\n",
       "deck_id            int64\n",
       "deck_set          object\n",
       "deck_type         object\n",
       "rating             int64\n",
       "title             object\n",
       "user              object\n",
       "card_0             int64\n",
       "card_1             int64\n",
       "card_2             int64\n",
       "card_3             int64\n",
       "card_4             int64\n",
       "card_5             int64\n",
       "card_6             int64\n",
       "card_7             int64\n",
       "card_8             int64\n",
       "card_9             int64\n",
       "card_10            int64\n",
       "card_11            int64\n",
       "card_12            int64\n",
       "card_13            int64\n",
       "card_14            int64\n",
       "card_15            int64\n",
       "card_16            int64\n",
       "card_17            int64\n",
       "card_18            int64\n",
       "card_19            int64\n",
       "card_20            int64\n",
       "card_21            int64\n",
       "card_22            int64\n",
       "card_23            int64\n",
       "card_24            int64\n",
       "card_25            int64\n",
       "card_26            int64\n",
       "card_27            int64\n",
       "card_28            int64\n",
       "card_29            int64\n",
       "dtype: object"
      ]
     },
     "execution_count": 159,
     "metadata": {},
     "output_type": "execute_result"
    }
   ],
   "source": [
    "decks.dtypes"
   ]
  },
  {
   "cell_type": "code",
   "execution_count": 54,
   "id": "2d1c9d23",
   "metadata": {},
   "outputs": [
    {
     "name": "stdout",
     "output_type": "stream",
     "text": [
      "<class 'pandas.core.frame.DataFrame'>\n",
      "RangeIndex: 346242 entries, 0 to 346241\n",
      "Data columns (total 41 columns):\n",
      " #   Column          Non-Null Count   Dtype \n",
      "---  ------          --------------   ----- \n",
      " 0   craft_cost      346242 non-null  int64 \n",
      " 1   date            346242 non-null  object\n",
      " 2   deck_archetype  346242 non-null  object\n",
      " 3   deck_class      346242 non-null  object\n",
      " 4   deck_format     346242 non-null  object\n",
      " 5   deck_id         346242 non-null  int64 \n",
      " 6   deck_set        346242 non-null  object\n",
      " 7   deck_type       346242 non-null  object\n",
      " 8   rating          346242 non-null  int64 \n",
      " 9   title           346234 non-null  object\n",
      " 10  user            346242 non-null  object\n",
      " 11  card_0          346242 non-null  int64 \n",
      " 12  card_1          346242 non-null  int64 \n",
      " 13  card_2          346242 non-null  int64 \n",
      " 14  card_3          346242 non-null  int64 \n",
      " 15  card_4          346242 non-null  int64 \n",
      " 16  card_5          346242 non-null  int64 \n",
      " 17  card_6          346242 non-null  int64 \n",
      " 18  card_7          346242 non-null  int64 \n",
      " 19  card_8          346242 non-null  int64 \n",
      " 20  card_9          346242 non-null  int64 \n",
      " 21  card_10         346242 non-null  int64 \n",
      " 22  card_11         346242 non-null  int64 \n",
      " 23  card_12         346242 non-null  int64 \n",
      " 24  card_13         346242 non-null  int64 \n",
      " 25  card_14         346242 non-null  int64 \n",
      " 26  card_15         346242 non-null  int64 \n",
      " 27  card_16         346242 non-null  int64 \n",
      " 28  card_17         346242 non-null  int64 \n",
      " 29  card_18         346242 non-null  int64 \n",
      " 30  card_19         346242 non-null  int64 \n",
      " 31  card_20         346242 non-null  int64 \n",
      " 32  card_21         346242 non-null  int64 \n",
      " 33  card_22         346242 non-null  int64 \n",
      " 34  card_23         346242 non-null  int64 \n",
      " 35  card_24         346242 non-null  int64 \n",
      " 36  card_25         346242 non-null  int64 \n",
      " 37  card_26         346242 non-null  int64 \n",
      " 38  card_27         346242 non-null  int64 \n",
      " 39  card_28         346242 non-null  int64 \n",
      " 40  card_29         346242 non-null  int64 \n",
      "dtypes: int64(33), object(8)\n",
      "memory usage: 108.3+ MB\n"
     ]
    }
   ],
   "source": [
    "decks.info()"
   ]
  },
  {
   "cell_type": "code",
   "execution_count": null,
   "id": "6a50ae23",
   "metadata": {},
   "outputs": [],
   "source": [
    "\n"
   ]
  },
  {
   "cell_type": "code",
   "execution_count": 11,
   "id": "178f7865",
   "metadata": {},
   "outputs": [
    {
     "name": "stdout",
     "output_type": "stream",
     "text": [
      "datetime import\n"
     ]
    }
   ],
   "source": [
    "#convertir object date en date\n",
    "from datetime import datetime\n",
    "print ('datetime import')"
   ]
  },
  {
   "cell_type": "code",
   "execution_count": 37,
   "id": "f3e9813d",
   "metadata": {},
   "outputs": [
    {
     "data": {
      "text/plain": [
       "0        2016-02-19\n",
       "1        2016-02-19\n",
       "2        2016-02-19\n",
       "3        2016-02-19\n",
       "4        2016-02-19\n",
       "            ...    \n",
       "346237   2016-04-25\n",
       "346238   2016-02-07\n",
       "346239   2016-02-07\n",
       "346240   2016-02-07\n",
       "346241   2016-02-07\n",
       "Name: date, Length: 346242, dtype: datetime64[ns]"
      ]
     },
     "execution_count": 37,
     "metadata": {},
     "output_type": "execute_result"
    }
   ],
   "source": [
    "decks['date'] = pd.to_datetime(decks['date'])\n",
    "decks['date']"
   ]
  },
  {
   "cell_type": "code",
   "execution_count": null,
   "id": "86f1aa12",
   "metadata": {},
   "outputs": [],
   "source": []
  },
  {
   "cell_type": "code",
   "execution_count": 38,
   "id": "ff8d0d4d",
   "metadata": {},
   "outputs": [
    {
     "name": "stdout",
     "output_type": "stream",
     "text": [
      "<class 'pandas.core.frame.DataFrame'>\n",
      "RangeIndex: 346242 entries, 0 to 346241\n",
      "Data columns (total 12 columns):\n",
      " #   Column          Non-Null Count   Dtype         \n",
      "---  ------          --------------   -----         \n",
      " 0   title           346237 non-null  object        \n",
      " 1   deck_archetype  346242 non-null  object        \n",
      " 2   rating          346242 non-null  int64         \n",
      " 3   deck_id         346242 non-null  int64         \n",
      " 4   date            346242 non-null  datetime64[ns]\n",
      " 5   user            346242 non-null  object        \n",
      " 6   craft_cost      346242 non-null  int64         \n",
      " 7   deck_type       346242 non-null  object        \n",
      " 8   deck_format     346242 non-null  object        \n",
      " 9   deck_set        346242 non-null  object        \n",
      " 10  deck_class      346242 non-null  object        \n",
      " 11  0               346242 non-null  object        \n",
      "dtypes: datetime64[ns](1), int64(3), object(8)\n",
      "memory usage: 31.7+ MB\n"
     ]
    }
   ],
   "source": [
    "decks.info()"
   ]
  },
  {
   "cell_type": "code",
   "execution_count": null,
   "id": "c3045598",
   "metadata": {},
   "outputs": [],
   "source": []
  },
  {
   "cell_type": "code",
   "execution_count": 60,
   "id": "6128c41f",
   "metadata": {},
   "outputs": [
    {
     "data": {
      "text/html": [
       "<div>\n",
       "<style scoped>\n",
       "    .dataframe tbody tr th:only-of-type {\n",
       "        vertical-align: middle;\n",
       "    }\n",
       "\n",
       "    .dataframe tbody tr th {\n",
       "        vertical-align: top;\n",
       "    }\n",
       "\n",
       "    .dataframe thead th {\n",
       "        text-align: right;\n",
       "    }\n",
       "</style>\n",
       "<table border=\"1\" class=\"dataframe\">\n",
       "  <thead>\n",
       "    <tr style=\"text-align: right;\">\n",
       "      <th></th>\n",
       "      <th>craft_cost</th>\n",
       "      <th>date</th>\n",
       "      <th>deck_archetype</th>\n",
       "      <th>deck_class</th>\n",
       "      <th>deck_format</th>\n",
       "      <th>deck_id</th>\n",
       "      <th>deck_set</th>\n",
       "      <th>deck_type</th>\n",
       "      <th>rating</th>\n",
       "      <th>title</th>\n",
       "      <th>...</th>\n",
       "      <th>card_20</th>\n",
       "      <th>card_21</th>\n",
       "      <th>card_22</th>\n",
       "      <th>card_23</th>\n",
       "      <th>card_24</th>\n",
       "      <th>card_25</th>\n",
       "      <th>card_26</th>\n",
       "      <th>card_27</th>\n",
       "      <th>card_28</th>\n",
       "      <th>card_29</th>\n",
       "    </tr>\n",
       "  </thead>\n",
       "  <tbody>\n",
       "    <tr>\n",
       "      <th>0</th>\n",
       "      <td>9740</td>\n",
       "      <td>2016-02-19</td>\n",
       "      <td>Unknown</td>\n",
       "      <td>Priest</td>\n",
       "      <td>W</td>\n",
       "      <td>433004</td>\n",
       "      <td>Explorers</td>\n",
       "      <td>Tavern Brawl</td>\n",
       "      <td>1</td>\n",
       "      <td>Reno Priest</td>\n",
       "      <td>...</td>\n",
       "      <td>2336</td>\n",
       "      <td>2457</td>\n",
       "      <td>2511</td>\n",
       "      <td>2555</td>\n",
       "      <td>2566</td>\n",
       "      <td>2582</td>\n",
       "      <td>2683</td>\n",
       "      <td>2736</td>\n",
       "      <td>2848</td>\n",
       "      <td>2883</td>\n",
       "    </tr>\n",
       "    <tr>\n",
       "      <th>1</th>\n",
       "      <td>9840</td>\n",
       "      <td>2016-02-19</td>\n",
       "      <td>Unknown</td>\n",
       "      <td>Warrior</td>\n",
       "      <td>W</td>\n",
       "      <td>433003</td>\n",
       "      <td>Explorers</td>\n",
       "      <td>Ranked Deck</td>\n",
       "      <td>1</td>\n",
       "      <td>RoosterWarrior</td>\n",
       "      <td>...</td>\n",
       "      <td>1781</td>\n",
       "      <td>1781</td>\n",
       "      <td>2021</td>\n",
       "      <td>2021</td>\n",
       "      <td>2064</td>\n",
       "      <td>2064</td>\n",
       "      <td>2078</td>\n",
       "      <td>2510</td>\n",
       "      <td>2729</td>\n",
       "      <td>2736</td>\n",
       "    </tr>\n",
       "    <tr>\n",
       "      <th>2</th>\n",
       "      <td>2600</td>\n",
       "      <td>2016-02-19</td>\n",
       "      <td>Unknown</td>\n",
       "      <td>Mage</td>\n",
       "      <td>W</td>\n",
       "      <td>433002</td>\n",
       "      <td>Explorers</td>\n",
       "      <td>Theorycraft</td>\n",
       "      <td>1</td>\n",
       "      <td>Annoying</td>\n",
       "      <td>...</td>\n",
       "      <td>1793</td>\n",
       "      <td>1801</td>\n",
       "      <td>1801</td>\n",
       "      <td>2037</td>\n",
       "      <td>2037</td>\n",
       "      <td>2064</td>\n",
       "      <td>2064</td>\n",
       "      <td>2078</td>\n",
       "      <td>38710</td>\n",
       "      <td>38710</td>\n",
       "    </tr>\n",
       "    <tr>\n",
       "      <th>3</th>\n",
       "      <td>15600</td>\n",
       "      <td>2016-02-19</td>\n",
       "      <td>Unknown</td>\n",
       "      <td>Warrior</td>\n",
       "      <td>W</td>\n",
       "      <td>433001</td>\n",
       "      <td>Explorers</td>\n",
       "      <td>None</td>\n",
       "      <td>0</td>\n",
       "      <td>Standart pay to win warrior</td>\n",
       "      <td>...</td>\n",
       "      <td>1657</td>\n",
       "      <td>1721</td>\n",
       "      <td>2018</td>\n",
       "      <td>2296</td>\n",
       "      <td>2320</td>\n",
       "      <td>2328</td>\n",
       "      <td>2729</td>\n",
       "      <td>2729</td>\n",
       "      <td>2736</td>\n",
       "      <td>2760</td>\n",
       "    </tr>\n",
       "    <tr>\n",
       "      <th>4</th>\n",
       "      <td>7700</td>\n",
       "      <td>2016-02-19</td>\n",
       "      <td>Unknown</td>\n",
       "      <td>Paladin</td>\n",
       "      <td>W</td>\n",
       "      <td>432997</td>\n",
       "      <td>Explorers</td>\n",
       "      <td>Ranked Deck</td>\n",
       "      <td>1</td>\n",
       "      <td>Palamix</td>\n",
       "      <td>...</td>\n",
       "      <td>2027</td>\n",
       "      <td>2029</td>\n",
       "      <td>2029</td>\n",
       "      <td>2064</td>\n",
       "      <td>2078</td>\n",
       "      <td>2336</td>\n",
       "      <td>2717</td>\n",
       "      <td>2717</td>\n",
       "      <td>2889</td>\n",
       "      <td>2889</td>\n",
       "    </tr>\n",
       "    <tr>\n",
       "      <th>...</th>\n",
       "      <td>...</td>\n",
       "      <td>...</td>\n",
       "      <td>...</td>\n",
       "      <td>...</td>\n",
       "      <td>...</td>\n",
       "      <td>...</td>\n",
       "      <td>...</td>\n",
       "      <td>...</td>\n",
       "      <td>...</td>\n",
       "      <td>...</td>\n",
       "      <td>...</td>\n",
       "      <td>...</td>\n",
       "      <td>...</td>\n",
       "      <td>...</td>\n",
       "      <td>...</td>\n",
       "      <td>...</td>\n",
       "      <td>...</td>\n",
       "      <td>...</td>\n",
       "      <td>...</td>\n",
       "      <td>...</td>\n",
       "      <td>...</td>\n",
       "    </tr>\n",
       "    <tr>\n",
       "      <th>346237</th>\n",
       "      <td>5480</td>\n",
       "      <td>2016-04-25</td>\n",
       "      <td>Unknown</td>\n",
       "      <td>Paladin</td>\n",
       "      <td>S</td>\n",
       "      <td>495042</td>\n",
       "      <td>Classic Nerfs</td>\n",
       "      <td>None</td>\n",
       "      <td>3</td>\n",
       "      <td>Shields Up! [Old Gods Deck Recipe]</td>\n",
       "      <td>...</td>\n",
       "      <td>2918</td>\n",
       "      <td>2918</td>\n",
       "      <td>38740</td>\n",
       "      <td>38740</td>\n",
       "      <td>38745</td>\n",
       "      <td>38745</td>\n",
       "      <td>38781</td>\n",
       "      <td>38781</td>\n",
       "      <td>38911</td>\n",
       "      <td>38911</td>\n",
       "    </tr>\n",
       "    <tr>\n",
       "      <th>346238</th>\n",
       "      <td>3840</td>\n",
       "      <td>2016-02-07</td>\n",
       "      <td>Unknown</td>\n",
       "      <td>Rogue</td>\n",
       "      <td>S</td>\n",
       "      <td>427586</td>\n",
       "      <td>Explorers</td>\n",
       "      <td>None</td>\n",
       "      <td>1</td>\n",
       "      <td>Post Standard Miracle Rogue</td>\n",
       "      <td>...</td>\n",
       "      <td>1029</td>\n",
       "      <td>1029</td>\n",
       "      <td>1117</td>\n",
       "      <td>1117</td>\n",
       "      <td>1158</td>\n",
       "      <td>1158</td>\n",
       "      <td>1372</td>\n",
       "      <td>1651</td>\n",
       "      <td>2884</td>\n",
       "      <td>2884</td>\n",
       "    </tr>\n",
       "    <tr>\n",
       "      <th>346239</th>\n",
       "      <td>5580</td>\n",
       "      <td>2016-02-07</td>\n",
       "      <td>Unknown</td>\n",
       "      <td>Paladin</td>\n",
       "      <td>W</td>\n",
       "      <td>427574</td>\n",
       "      <td>Explorers</td>\n",
       "      <td>Ranked Deck</td>\n",
       "      <td>0</td>\n",
       "      <td>Genoocide's Reno Paladin</td>\n",
       "      <td>...</td>\n",
       "      <td>2029</td>\n",
       "      <td>2037</td>\n",
       "      <td>2078</td>\n",
       "      <td>2655</td>\n",
       "      <td>2704</td>\n",
       "      <td>2883</td>\n",
       "      <td>2889</td>\n",
       "      <td>2901</td>\n",
       "      <td>2949</td>\n",
       "      <td>2951</td>\n",
       "    </tr>\n",
       "    <tr>\n",
       "      <th>346240</th>\n",
       "      <td>5160</td>\n",
       "      <td>2016-02-07</td>\n",
       "      <td>Unknown</td>\n",
       "      <td>Druid</td>\n",
       "      <td>S</td>\n",
       "      <td>427571</td>\n",
       "      <td>Explorers</td>\n",
       "      <td>Ranked Deck</td>\n",
       "      <td>1</td>\n",
       "      <td>standard combo</td>\n",
       "      <td>...</td>\n",
       "      <td>1124</td>\n",
       "      <td>1124</td>\n",
       "      <td>2336</td>\n",
       "      <td>2780</td>\n",
       "      <td>2780</td>\n",
       "      <td>2782</td>\n",
       "      <td>2782</td>\n",
       "      <td>2948</td>\n",
       "      <td>38319</td>\n",
       "      <td>38319</td>\n",
       "    </tr>\n",
       "    <tr>\n",
       "      <th>346241</th>\n",
       "      <td>1260</td>\n",
       "      <td>2016-02-07</td>\n",
       "      <td>Unknown</td>\n",
       "      <td>Warlock</td>\n",
       "      <td>W</td>\n",
       "      <td>427572</td>\n",
       "      <td>Explorers</td>\n",
       "      <td>Ranked Deck</td>\n",
       "      <td>3</td>\n",
       "      <td>Zoo Warlock</td>\n",
       "      <td>...</td>\n",
       "      <td>1786</td>\n",
       "      <td>1786</td>\n",
       "      <td>1806</td>\n",
       "      <td>1806</td>\n",
       "      <td>2013</td>\n",
       "      <td>2013</td>\n",
       "      <td>2288</td>\n",
       "      <td>2288</td>\n",
       "      <td>2895</td>\n",
       "      <td>2895</td>\n",
       "    </tr>\n",
       "  </tbody>\n",
       "</table>\n",
       "<p>346242 rows × 41 columns</p>\n",
       "</div>"
      ],
      "text/plain": [
       "        craft_cost        date deck_archetype deck_class deck_format  deck_id  \\\n",
       "0             9740  2016-02-19        Unknown     Priest           W   433004   \n",
       "1             9840  2016-02-19        Unknown    Warrior           W   433003   \n",
       "2             2600  2016-02-19        Unknown       Mage           W   433002   \n",
       "3            15600  2016-02-19        Unknown    Warrior           W   433001   \n",
       "4             7700  2016-02-19        Unknown    Paladin           W   432997   \n",
       "...            ...         ...            ...        ...         ...      ...   \n",
       "346237        5480  2016-04-25        Unknown    Paladin           S   495042   \n",
       "346238        3840  2016-02-07        Unknown      Rogue           S   427586   \n",
       "346239        5580  2016-02-07        Unknown    Paladin           W   427574   \n",
       "346240        5160  2016-02-07        Unknown      Druid           S   427571   \n",
       "346241        1260  2016-02-07        Unknown    Warlock           W   427572   \n",
       "\n",
       "             deck_set     deck_type  rating  \\\n",
       "0           Explorers  Tavern Brawl       1   \n",
       "1           Explorers   Ranked Deck       1   \n",
       "2           Explorers   Theorycraft       1   \n",
       "3           Explorers          None       0   \n",
       "4           Explorers   Ranked Deck       1   \n",
       "...               ...           ...     ...   \n",
       "346237  Classic Nerfs          None       3   \n",
       "346238      Explorers          None       1   \n",
       "346239      Explorers   Ranked Deck       0   \n",
       "346240      Explorers   Ranked Deck       1   \n",
       "346241      Explorers   Ranked Deck       3   \n",
       "\n",
       "                                     title  ... card_20  card_21  card_22  \\\n",
       "0                              Reno Priest  ...    2336     2457     2511   \n",
       "1                           RoosterWarrior  ...    1781     1781     2021   \n",
       "2                                 Annoying  ...    1793     1801     1801   \n",
       "3              Standart pay to win warrior  ...    1657     1721     2018   \n",
       "4                                  Palamix  ...    2027     2029     2029   \n",
       "...                                    ...  ...     ...      ...      ...   \n",
       "346237  Shields Up! [Old Gods Deck Recipe]  ...    2918     2918    38740   \n",
       "346238         Post Standard Miracle Rogue  ...    1029     1029     1117   \n",
       "346239            Genoocide's Reno Paladin  ...    2029     2037     2078   \n",
       "346240                      standard combo  ...    1124     1124     2336   \n",
       "346241                         Zoo Warlock  ...    1786     1786     1806   \n",
       "\n",
       "        card_23  card_24  card_25  card_26  card_27  card_28  card_29  \n",
       "0          2555     2566     2582     2683     2736     2848     2883  \n",
       "1          2021     2064     2064     2078     2510     2729     2736  \n",
       "2          2037     2037     2064     2064     2078    38710    38710  \n",
       "3          2296     2320     2328     2729     2729     2736     2760  \n",
       "4          2064     2078     2336     2717     2717     2889     2889  \n",
       "...         ...      ...      ...      ...      ...      ...      ...  \n",
       "346237    38740    38745    38745    38781    38781    38911    38911  \n",
       "346238     1117     1158     1158     1372     1651     2884     2884  \n",
       "346239     2655     2704     2883     2889     2901     2949     2951  \n",
       "346240     2780     2780     2782     2782     2948    38319    38319  \n",
       "346241     1806     2013     2013     2288     2288     2895     2895  \n",
       "\n",
       "[346242 rows x 41 columns]"
      ]
     },
     "execution_count": 60,
     "metadata": {},
     "output_type": "execute_result"
    }
   ],
   "source": [
    "decks\n"
   ]
  },
  {
   "cell_type": "code",
   "execution_count": null,
   "id": "6a3b5ecd",
   "metadata": {},
   "outputs": [],
   "source": []
  },
  {
   "cell_type": "code",
   "execution_count": 85,
   "id": "7b0a048b",
   "metadata": {},
   "outputs": [
    {
     "name": "stdout",
     "output_type": "stream",
     "text": [
      "346242 decks joués entre le 2013-05-23 et le 2017-03-19\n"
     ]
    }
   ],
   "source": [
    "###Combien de decks utilisés ? Sur combien de temps ?\n",
    "raw_length = len(decks)\n",
    "max_date = decks['date'].max()\n",
    "min_date = decks['date'].min()\n",
    "print(raw_length, 'decks joués entre le', min_date, 'et le', max_date)\n"
   ]
  },
  {
   "cell_type": "code",
   "execution_count": 88,
   "id": "bf59e6a3",
   "metadata": {},
   "outputs": [
    {
     "data": {
      "text/plain": [
       "346242"
      ]
     },
     "execution_count": 88,
     "metadata": {},
     "output_type": "execute_result"
    }
   ],
   "source": [
    "#S'agit il de decks uniques ? Si non, rm doublons \n",
    "len(decks['deck_id'].unique())"
   ]
  },
  {
   "cell_type": "code",
   "execution_count": null,
   "id": "07d2989d",
   "metadata": {},
   "outputs": [],
   "source": []
  },
  {
   "cell_type": "code",
   "execution_count": null,
   "id": "2f4cbc6b",
   "metadata": {},
   "outputs": [],
   "source": [
    "\n"
   ]
  },
  {
   "cell_type": "code",
   "execution_count": 98,
   "id": "49573dda",
   "metadata": {},
   "outputs": [
    {
     "data": {
      "text/plain": [
       "Ranked Deck      202375\n",
       "None              91058\n",
       "Theorycraft       19688\n",
       "Arena             14105\n",
       "PvE Adventure      9059\n",
       "Tavern Brawl       6360\n",
       "Tournament         3597\n",
       "Name: deck_type, dtype: int64"
      ]
     },
     "execution_count": 98,
     "metadata": {},
     "output_type": "execute_result"
    }
   ],
   "source": [
    "#Type decks\n",
    "decks['deck_type'].value_counts()"
   ]
  },
  {
   "cell_type": "code",
   "execution_count": null,
   "id": "1805a501",
   "metadata": {},
   "outputs": [],
   "source": []
  },
  {
   "cell_type": "code",
   "execution_count": 101,
   "id": "7fbd5e4a",
   "metadata": {},
   "outputs": [
    {
     "data": {
      "text/plain": [
       "Unknown            242634\n",
       "Midrange Shaman      5472\n",
       "Control Priest       5136\n",
       "Control Warrior      4939\n",
       "Tempo Mage           4546\n",
       "                    ...  \n",
       "Oil Rogue             113\n",
       "Mech Shaman            62\n",
       "Edit                   51\n",
       "Mech Rogue             33\n",
       "Water Rogue            25\n",
       "Name: deck_archetype, Length: 76, dtype: int64"
      ]
     },
     "execution_count": 101,
     "metadata": {},
     "output_type": "execute_result"
    }
   ],
   "source": [
    "#Archetype decks\n",
    "decks['deck_archetype'].value_counts()"
   ]
  },
  {
   "cell_type": "code",
   "execution_count": null,
   "id": "e6b14c54",
   "metadata": {},
   "outputs": [],
   "source": []
  },
  {
   "cell_type": "code",
   "execution_count": null,
   "id": "ff45afff",
   "metadata": {},
   "outputs": [],
   "source": []
  },
  {
   "cell_type": "code",
   "execution_count": 100,
   "id": "4ebfd60b",
   "metadata": {},
   "outputs": [
    {
     "data": {
      "text/plain": [
       "5645.225937350177"
      ]
     },
     "execution_count": 100,
     "metadata": {},
     "output_type": "execute_result"
    }
   ],
   "source": [
    "##Moyenne coût de crafts du deck \n",
    "decks.craft_cost.mean()\n"
   ]
  },
  {
   "cell_type": "code",
   "execution_count": null,
   "id": "07e04967",
   "metadata": {},
   "outputs": [],
   "source": []
  },
  {
   "cell_type": "code",
   "execution_count": 107,
   "id": "6817b587",
   "metadata": {},
   "outputs": [
    {
     "data": {
      "text/plain": [
       "<seaborn.axisgrid.FacetGrid at 0x1f9a695edc0>"
      ]
     },
     "execution_count": 107,
     "metadata": {},
     "output_type": "execute_result"
    },
    {
     "data": {
      "image/png": "[encoded data removed]",
      "text/plain": [
       "<Figure size 720x720 with 1 Axes>"
      ]
     },
     "metadata": {
      "needs_background": "light"
     },
     "output_type": "display_data"
    }
   ],
   "source": [
    "##Relation entre coût du deck pour le joueur et son archétype\n",
    "sns.catplot(x=\"deck_archetype\", y=\"craft_cost\", data= decks.sample(100), kind=\"bar\", height=10)"
   ]
  },
  {
   "cell_type": "code",
   "execution_count": null,
   "id": "4f79079a",
   "metadata": {},
   "outputs": [],
   "source": []
  },
  {
   "cell_type": "code",
   "execution_count": 132,
   "id": "26847856",
   "metadata": {},
   "outputs": [],
   "source": [
    "##Trop de données, on prend un échantillon plus petit\n",
    "new_df = decks.sample(n=50)"
   ]
  },
  {
   "cell_type": "code",
   "execution_count": 133,
   "id": "8c8c03fa",
   "metadata": {},
   "outputs": [
    {
     "data": {
      "text/plain": [
       "<seaborn.axisgrid.FacetGrid at 0x1fa2bcdd430>"
      ]
     },
     "execution_count": 133,
     "metadata": {},
     "output_type": "execute_result"
    },
    {
     "data": {
      "image/png": "[encoded data removed]",
      "text/plain": [
       "<Figure size 1728x576 with 1 Axes>"
      ]
     },
     "metadata": {
      "needs_background": "light"
     },
     "output_type": "display_data"
    }
   ],
   "source": [
    "# sns.relplot(x=\"deck_archetype\", y=\"craft_cost\", data= new_df, kind=\"bar\", height=10)\n",
    "sns.relplot(x=\"deck_archetype\", y=\"craft_cost\", data = new_df, kind=\"line\", height=8, aspect=3)\n"
   ]
  },
  {
   "cell_type": "code",
   "execution_count": null,
   "id": "2dbe282e",
   "metadata": {},
   "outputs": [],
   "source": [
    "##CCL graphique: les decks type contrôle (plus lents) sont plus chers pour le joueur que les decks plus aggressifs"
   ]
  },
  {
   "cell_type": "code",
   "execution_count": null,
   "id": "c11f3097",
   "metadata": {},
   "outputs": [],
   "source": []
  },
  {
   "cell_type": "code",
   "execution_count": 134,
   "id": "864db605",
   "metadata": {},
   "outputs": [
    {
     "name": "stdout",
     "output_type": "stream",
     "text": [
      "<class 'pandas.core.frame.DataFrame'>\n",
      "RangeIndex: 346242 entries, 0 to 346241\n",
      "Data columns (total 41 columns):\n",
      " #   Column          Non-Null Count   Dtype \n",
      "---  ------          --------------   ----- \n",
      " 0   craft_cost      346242 non-null  int64 \n",
      " 1   date            346242 non-null  object\n",
      " 2   deck_archetype  346242 non-null  object\n",
      " 3   deck_class      346242 non-null  object\n",
      " 4   deck_format     346242 non-null  object\n",
      " 5   deck_id         346242 non-null  int64 \n",
      " 6   deck_set        346242 non-null  object\n",
      " 7   deck_type       346242 non-null  object\n",
      " 8   rating          346242 non-null  int64 \n",
      " 9   title           346234 non-null  object\n",
      " 10  user            346242 non-null  object\n",
      " 11  card_0          346242 non-null  int64 \n",
      " 12  card_1          346242 non-null  int64 \n",
      " 13  card_2          346242 non-null  int64 \n",
      " 14  card_3          346242 non-null  int64 \n",
      " 15  card_4          346242 non-null  int64 \n",
      " 16  card_5          346242 non-null  int64 \n",
      " 17  card_6          346242 non-null  int64 \n",
      " 18  card_7          346242 non-null  int64 \n",
      " 19  card_8          346242 non-null  int64 \n",
      " 20  card_9          346242 non-null  int64 \n",
      " 21  card_10         346242 non-null  int64 \n",
      " 22  card_11         346242 non-null  int64 \n",
      " 23  card_12         346242 non-null  int64 \n",
      " 24  card_13         346242 non-null  int64 \n",
      " 25  card_14         346242 non-null  int64 \n",
      " 26  card_15         346242 non-null  int64 \n",
      " 27  card_16         346242 non-null  int64 \n",
      " 28  card_17         346242 non-null  int64 \n",
      " 29  card_18         346242 non-null  int64 \n",
      " 30  card_19         346242 non-null  int64 \n",
      " 31  card_20         346242 non-null  int64 \n",
      " 32  card_21         346242 non-null  int64 \n",
      " 33  card_22         346242 non-null  int64 \n",
      " 34  card_23         346242 non-null  int64 \n",
      " 35  card_24         346242 non-null  int64 \n",
      " 36  card_25         346242 non-null  int64 \n",
      " 37  card_26         346242 non-null  int64 \n",
      " 38  card_27         346242 non-null  int64 \n",
      " 39  card_28         346242 non-null  int64 \n",
      " 40  card_29         346242 non-null  int64 \n",
      "dtypes: int64(33), object(8)\n",
      "memory usage: 108.3+ MB\n"
     ]
    }
   ],
   "source": [
    "decks.info()\n"
   ]
  },
  {
   "cell_type": "code",
   "execution_count": 135,
   "id": "6cf7e85f",
   "metadata": {},
   "outputs": [
    {
     "data": {
      "text/plain": [
       "W    175448\n",
       "S    170794\n",
       "Name: deck_format, dtype: int64"
      ]
     },
     "execution_count": 135,
     "metadata": {},
     "output_type": "execute_result"
    }
   ],
   "source": [
    "#Format du deck S = standard, W = wild\n",
    "decks['deck_format'].value_counts()"
   ]
  },
  {
   "cell_type": "code",
   "execution_count": null,
   "id": "67ced1f6",
   "metadata": {},
   "outputs": [],
   "source": []
  },
  {
   "cell_type": "code",
   "execution_count": 149,
   "id": "eb2a44c0",
   "metadata": {},
   "outputs": [
    {
     "data": {
      "text/plain": [
       "Wild        175448\n",
       "Standard    170794\n",
       "Name: deck_format, dtype: int64"
      ]
     },
     "execution_count": 149,
     "metadata": {},
     "output_type": "execute_result"
    }
   ],
   "source": [
    "##Reformatage colonne deck format \n",
    "decks.deck_format = decks.deck_format.replace(to_replace = [\"W\", \"S\"], value=[\"Wild\",\"Standard\"])\n",
    "decks['deck_format'].value_counts()"
   ]
  },
  {
   "cell_type": "code",
   "execution_count": null,
   "id": "ef51a21f",
   "metadata": {},
   "outputs": [],
   "source": []
  },
  {
   "cell_type": "code",
   "execution_count": 144,
   "id": "55c84685",
   "metadata": {},
   "outputs": [
    {
     "data": {
      "text/plain": [
       "<seaborn.axisgrid.FacetGrid at 0x1fa402df490>"
      ]
     },
     "execution_count": 144,
     "metadata": {},
     "output_type": "execute_result"
    },
    {
     "data": {
      "image/png": "[encoded data removed]",
      "text/plain": [
       "<Figure size 360x360 with 1 Axes>"
      ]
     },
     "metadata": {
      "needs_background": "light"
     },
     "output_type": "display_data"
    }
   ],
   "source": [
    "##Relation entre coût du deck pour le joueur et le format du deck\n",
    "sns.catplot(x='craft_cost', y='deck_format', data=decks, kind='box')\n"
   ]
  },
  {
   "cell_type": "code",
   "execution_count": 148,
   "id": "6be5c434",
   "metadata": {},
   "outputs": [
    {
     "data": {
      "text/plain": [
       "<seaborn.axisgrid.FacetGrid at 0x1fa405080d0>"
      ]
     },
     "execution_count": 148,
     "metadata": {},
     "output_type": "execute_result"
    },
    {
     "data": {
      "image/png": "[encoded data removed]",
      "text/plain": [
       "<Figure size 720x720 with 1 Axes>"
      ]
     },
     "metadata": {
      "needs_background": "light"
     },
     "output_type": "display_data"
    }
   ],
   "source": [
    "##Too much données abherrantes, on filtre sur la quantité de coût du deck < 13500\n",
    "craft_cost_moins_abherrants = decks[ decks['craft_cost'] < 13500 ] \n",
    "sns.catplot(x=\"craft_cost\", y=\"deck_format\", data = craft_cost_moins_abherrants, kind= \"box\", height=10)"
   ]
  },
  {
   "cell_type": "code",
   "execution_count": null,
   "id": "6ea7679b",
   "metadata": {},
   "outputs": [],
   "source": [
    "##En moyenne, la majorité des decks standards est un peu plus chère que les decks wilds"
   ]
  },
  {
   "cell_type": "code",
   "execution_count": 158,
   "id": "8b6e3344",
   "metadata": {},
   "outputs": [
    {
     "data": {
      "text/plain": [
       "5280.296270119921"
      ]
     },
     "execution_count": 158,
     "metadata": {},
     "output_type": "execute_result"
    }
   ],
   "source": [
    "decks_wild = decks[ decks.deck_format == 'Wild' ] \n",
    "decks_wild['craft_cost'].mean()\n"
   ]
  },
  {
   "cell_type": "code",
   "execution_count": 157,
   "id": "c2ca9625",
   "metadata": {},
   "outputs": [
    {
     "data": {
      "text/plain": [
       "6020.0996463576"
      ]
     },
     "execution_count": 157,
     "metadata": {},
     "output_type": "execute_result"
    }
   ],
   "source": [
    "decks_std = decks[ decks.deck_format == 'Standard' ] \n",
    "decks_std['craft_cost'].mean()"
   ]
  },
  {
   "cell_type": "code",
   "execution_count": null,
   "id": "273dd118",
   "metadata": {},
   "outputs": [],
   "source": []
  },
  {
   "cell_type": "code",
   "execution_count": 161,
   "id": "ee1b0bae",
   "metadata": {},
   "outputs": [
    {
     "data": {
      "text/plain": [
       "Mage       45306\n",
       "Priest     44307\n",
       "Paladin    42268\n",
       "Warlock    38025\n",
       "Druid      37892\n",
       "Shaman     36457\n",
       "Warrior    35945\n",
       "Rogue      34794\n",
       "Hunter     31248\n",
       "Name: deck_class, dtype: int64"
      ]
     },
     "execution_count": 161,
     "metadata": {},
     "output_type": "execute_result"
    }
   ],
   "source": [
    "decks.deck_class.value_counts()"
   ]
  },
  {
   "cell_type": "code",
   "execution_count": 162,
   "id": "a5f3dc5d",
   "metadata": {},
   "outputs": [
    {
     "name": "stdout",
     "output_type": "stream",
     "text": [
      "<class 'pandas.core.frame.DataFrame'>\n",
      "Int64Index: 346242 entries, 0 to 346241\n",
      "Data columns (total 41 columns):\n",
      " #   Column          Non-Null Count   Dtype \n",
      "---  ------          --------------   ----- \n",
      " 0   craft_cost      346242 non-null  int64 \n",
      " 1   date            346242 non-null  object\n",
      " 2   deck_archetype  346242 non-null  object\n",
      " 3   deck_class      346242 non-null  object\n",
      " 4   deck_format     346242 non-null  object\n",
      " 5   deck_id         346242 non-null  int64 \n",
      " 6   deck_set        346242 non-null  object\n",
      " 7   deck_type       346242 non-null  object\n",
      " 8   rating          346242 non-null  int64 \n",
      " 9   title           346234 non-null  object\n",
      " 10  user            346242 non-null  object\n",
      " 11  card_0          346242 non-null  int64 \n",
      " 12  card_1          346242 non-null  int64 \n",
      " 13  card_2          346242 non-null  int64 \n",
      " 14  card_3          346242 non-null  int64 \n",
      " 15  card_4          346242 non-null  int64 \n",
      " 16  card_5          346242 non-null  int64 \n",
      " 17  card_6          346242 non-null  int64 \n",
      " 18  card_7          346242 non-null  int64 \n",
      " 19  card_8          346242 non-null  int64 \n",
      " 20  card_9          346242 non-null  int64 \n",
      " 21  card_10         346242 non-null  int64 \n",
      " 22  card_11         346242 non-null  int64 \n",
      " 23  card_12         346242 non-null  int64 \n",
      " 24  card_13         346242 non-null  int64 \n",
      " 25  card_14         346242 non-null  int64 \n",
      " 26  card_15         346242 non-null  int64 \n",
      " 27  card_16         346242 non-null  int64 \n",
      " 28  card_17         346242 non-null  int64 \n",
      " 29  card_18         346242 non-null  int64 \n",
      " 30  card_19         346242 non-null  int64 \n",
      " 31  card_20         346242 non-null  int64 \n",
      " 32  card_21         346242 non-null  int64 \n",
      " 33  card_22         346242 non-null  int64 \n",
      " 34  card_23         346242 non-null  int64 \n",
      " 35  card_24         346242 non-null  int64 \n",
      " 36  card_25         346242 non-null  int64 \n",
      " 37  card_26         346242 non-null  int64 \n",
      " 38  card_27         346242 non-null  int64 \n",
      " 39  card_28         346242 non-null  int64 \n",
      " 40  card_29         346242 non-null  int64 \n",
      "dtypes: int64(33), object(8)\n",
      "memory usage: 119.0+ MB\n"
     ]
    }
   ],
   "source": [
    "decks.info()"
   ]
  },
  {
   "cell_type": "code",
   "execution_count": 163,
   "id": "c198d940",
   "metadata": {},
   "outputs": [
    {
     "data": {
      "text/plain": [
       "<seaborn.axisgrid.FacetGrid at 0x1f9aa111ca0>"
      ]
     },
     "execution_count": 163,
     "metadata": {},
     "output_type": "execute_result"
    },
    {
     "data": {
      "image/png": "[encoded data removed]",
      "text/plain": [
       "<Figure size 720x720 with 1 Axes>"
      ]
     },
     "metadata": {
      "needs_background": "light"
     },
     "output_type": "display_data"
    }
   ],
   "source": [
    "##Relation entre coût du deck pour le joueur et la classe héros choisie\n",
    "sns.catplot(x=\"deck_class\", y=\"craft_cost\", data= decks.sample(100), kind=\"bar\", height=10)"
   ]
  },
  {
   "cell_type": "code",
   "execution_count": null,
   "id": "a3784fbd",
   "metadata": {},
   "outputs": [],
   "source": []
  },
  {
   "cell_type": "code",
   "execution_count": 166,
   "id": "494044a8",
   "metadata": {},
   "outputs": [
    {
     "data": {
      "text/plain": [
       "Explorers           57307\n",
       "Old Gods            49895\n",
       "Blackrock Launch    38900\n",
       "Gadgetzan           31329\n",
       "Naxx Launch         22283\n",
       "Yogg Nerf           22175\n",
       "Karazhan            22034\n",
       "TGT Launch          21516\n",
       "GvG Launch          14556\n",
       "Undertaker Nerf     11296\n",
       "Beta Patch 3937      8561\n",
       "Live Patch 5506      6924\n",
       "Warsong Nerf         6867\n",
       "Aggro Downfall       5490\n",
       "Beta Patch 4482      4490\n",
       "Beta Patch 3664      3705\n",
       "Classic Nerfs        3472\n",
       "Live Patch 5170      3138\n",
       "Live Patch 4973      2629\n",
       "Beta Patch 4243      1800\n",
       "Live Patch 5314      1728\n",
       "GvG Prelaunch        1574\n",
       "Beta Patch 3749      1364\n",
       "Live Patch 5435       820\n",
       "Beta Patch 3388       563\n",
       "Beta Patch 4217       515\n",
       "Beta Release          491\n",
       "Beta Patch 3890       459\n",
       "Beta Patch 4944       247\n",
       "Beta Patch 4458        60\n",
       "Beta Patch 3645        32\n",
       "Beta Patch 3604        22\n",
       "Name: deck_set, dtype: int64"
      ]
     },
     "execution_count": 166,
     "metadata": {},
     "output_type": "execute_result"
    }
   ],
   "source": [
    "decks.deck_set.value_counts()"
   ]
  },
  {
   "cell_type": "code",
   "execution_count": 172,
   "id": "9df35231",
   "metadata": {},
   "outputs": [
    {
     "data": {
      "text/plain": [
       "Mage       8383\n",
       "Paladin    7507\n",
       "Priest     7129\n",
       "Warlock    6272\n",
       "Rogue      5859\n",
       "Druid      5835\n",
       "Warrior    5818\n",
       "Shaman     5538\n",
       "Hunter     4966\n",
       "Name: deck_class, dtype: int64"
      ]
     },
     "execution_count": 172,
     "metadata": {},
     "output_type": "execute_result"
    }
   ],
   "source": [
    "decks_explorers = decks[ decks.deck_set == 'Explorers' ] \n",
    "classe_héros = decks_explorers['deck_class'].value_counts()\n",
    "classe_héros"
   ]
  },
  {
   "cell_type": "code",
   "execution_count": 180,
   "id": "3dfa6a56",
   "metadata": {},
   "outputs": [
    {
     "data": {
      "text/plain": [
       "Priest     3154\n",
       "Mage       2774\n",
       "Paladin    2582\n",
       "Warrior    2492\n",
       "Hunter     2428\n",
       "Druid      2347\n",
       "Rogue      2223\n",
       "Shaman     2174\n",
       "Warlock    1860\n",
       "Name: deck_class, dtype: int64"
      ]
     },
     "execution_count": 180,
     "metadata": {},
     "output_type": "execute_result"
    }
   ],
   "source": [
    "decks_kara = decks[ decks.deck_set == 'Karazhan' ] \n",
    "classe_héros_kara = decks_kara['deck_class'].value_counts()\n",
    "classe_héros_kara"
   ]
  },
  {
   "cell_type": "code",
   "execution_count": null,
   "id": "733593e9",
   "metadata": {},
   "outputs": [],
   "source": []
  },
  {
   "cell_type": "code",
   "execution_count": null,
   "id": "d4f56a1f",
   "metadata": {},
   "outputs": [],
   "source": []
  },
  {
   "cell_type": "code",
   "execution_count": null,
   "id": "693bcff9",
   "metadata": {},
   "outputs": [],
   "source": []
  },
  {
   "cell_type": "code",
   "execution_count": null,
   "id": "4d78678e",
   "metadata": {},
   "outputs": [],
   "source": []
  }
 ],
 "metadata": {
  "kernelspec": {
   "display_name": "Python 3 (ipykernel)",
   "language": "python",
   "name": "python3"
  },
  "language_info": {
   "codemirror_mode": {
    "name": "ipython",
    "version": 3
   },
   "file_extension": ".py",
   "mimetype": "text/x-python",
   "name": "python",
   "nbconvert_exporter": "python",
   "pygments_lexer": "ipython3",
   "version": "3.9.7"
  }
 },
 "nbformat": 4,
 "nbformat_minor": 5
}
